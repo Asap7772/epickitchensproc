{
 "cells": [
  {
   "cell_type": "code",
   "execution_count": 2,
   "metadata": {},
   "outputs": [],
   "source": [
    "import os\n",
    "import sys\n",
    "import numpy as np\n",
    "import pandas as pd\n",
    "import matplotlib.pyplot as plt\n",
    "import imageio"
   ]
  },
  {
   "cell_type": "code",
   "execution_count": 3,
   "metadata": {},
   "outputs": [
    {
     "name": "stdout",
     "output_type": "stream",
     "text": [
      "['frame_0000000001.jpg', 'frame_0000000002.jpg', 'frame_0000000003.jpg', 'frame_0000000004.jpg', 'frame_0000000005.jpg', 'frame_0000000006.jpg', 'frame_0000000007.jpg', 'frame_0000000008.jpg', 'frame_0000000009.jpg', 'frame_0000000010.jpg']\n"
     ]
    }
   ],
   "source": [
    "dataset_loc='/home/raid/asap7772/epic100/'\n",
    "path='frames/P01/rgb_frames/P01_01'\n",
    "full_path=os.path.join(dataset_loc,path)\n",
    "dirs = os.listdir(full_path)\n",
    "\n",
    "max_num=10\n",
    "if len(dirs) == 0:\n",
    "    print('No files found')\n",
    "else:\n",
    "    print(sorted(dirs)[:max_num])"
   ]
  },
  {
   "cell_type": "code",
   "execution_count": 4,
   "metadata": {},
   "outputs": [
    {
     "name": "stdout",
     "output_type": "stream",
     "text": [
      "99135\n"
     ]
    }
   ],
   "source": [
    "import os\n",
    "\n",
    "fps=1\n",
    "image_files = [os.path.join(full_path,img) for img in sorted(dirs)]\n",
    "for x in image_files:\n",
    "    assert os.path.exists(x)\n",
    "print(len(image_files))"
   ]
  },
  {
   "cell_type": "code",
   "execution_count": 6,
   "metadata": {},
   "outputs": [
    {
     "name": "stdout",
     "output_type": "stream",
     "text": [
      "Creating /home/raid/asap7772/epic100/output/video_0.gif\n",
      "Creating /home/raid/asap7772/epic100/output/video_1000.gif\n",
      "Creating /home/raid/asap7772/epic100/output/video_2000.gif\n",
      "Creating /home/raid/asap7772/epic100/output/video_3000.gif\n",
      "Creating /home/raid/asap7772/epic100/output/video_4000.gif\n",
      "Creating /home/raid/asap7772/epic100/output/video_5000.gif\n",
      "Creating /home/raid/asap7772/epic100/output/video_6000.gif\n",
      "Creating /home/raid/asap7772/epic100/output/video_7000.gif\n",
      "Creating /home/raid/asap7772/epic100/output/video_8000.gif\n",
      "Creating /home/raid/asap7772/epic100/output/video_9000.gif\n",
      "Creating /home/raid/asap7772/epic100/output/video_10000.gif\n",
      "Creating /home/raid/asap7772/epic100/output/video_11000.gif\n",
      "Creating /home/raid/asap7772/epic100/output/video_12000.gif\n",
      "Creating /home/raid/asap7772/epic100/output/video_13000.gif\n",
      "Creating /home/raid/asap7772/epic100/output/video_14000.gif\n"
     ]
    }
   ],
   "source": [
    "import imageio\n",
    "output_path='/home/raid/asap7772/epic100/output'\n",
    "max_len=1000\n",
    "os.system('mkdir -p {}'.format(output_path))\n",
    "os.system('rm -rf {}/*'.format(output_path))\n",
    "\n",
    "for i in range(0,len(image_files),max_len):\n",
    "    fp = os.path.join(output_path,'video_{}.gif'.format(i))\n",
    "    print('Creating {}'.format(fp))\n",
    "    with imageio.get_writer(fp, mode='I') as writer:\n",
    "        for filename in image_files[i:i+max_len]:\n",
    "            image = imageio.v3.imread(filename)\n",
    "            writer.append_data(image)"
   ]
  }
 ],
 "metadata": {
  "kernelspec": {
   "display_name": "Python 3.10.4 64-bit",
   "language": "python",
   "name": "python3"
  },
  "language_info": {
   "codemirror_mode": {
    "name": "ipython",
    "version": 3
   },
   "file_extension": ".py",
   "mimetype": "text/x-python",
   "name": "python",
   "nbconvert_exporter": "python",
   "pygments_lexer": "ipython3",
   "version": "3.10.4"
  },
  "orig_nbformat": 4,
  "vscode": {
   "interpreter": {
    "hash": "3c5edb714f6691ef95dcd70166b0f887d182117fddebd0bcba499d41968d22dd"
   }
  }
 },
 "nbformat": 4,
 "nbformat_minor": 2
}
